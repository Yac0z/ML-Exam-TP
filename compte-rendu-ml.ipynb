{
 "cells": [
  {
   "cell_type": "markdown",
   "id": "2610da9b",
   "metadata": {},
   "source": [
    "Machine Learning\n",
    "\n",
    "                                                                                   #Compte rendu TP  ML\n",
    "                                                                                   #Section: LCS3-GLSI\n",
    "                                                                                             3C groupe 2\n",
    "Nom et Prenom:\n",
    "Groupe:\n",
    "Enseignante: Nissaf Fredj"
   ]
  },
  {
   "cell_type": "code",
   "execution_count": 1,
   "id": "0c817b6a",
   "metadata": {},
   "outputs": [],
   "source": [
    "import pandas as pd\n",
    "from math import sqrt\n",
    "import matplotlib.pyplot as plt\n",
    "from sklearn.model_selection import train_test_split\n",
    "from sklearn.linear_model import LinearRegression\n",
    "from sklearn.metrics import mean_squared_error, r2_score\n",
    "from sklearn import preprocessing"
   ]
  },
  {
   "cell_type": "code",
   "execution_count": 7,
   "id": "01cc6876",
   "metadata": {},
   "outputs": [
    {
     "name": "stdout",
     "output_type": "stream",
     "text": [
      "       Avg. Area Income  Avg. Area House Age  Avg. Area Number of Rooms  \\\n",
      "count       5000.000000          5000.000000                5000.000000   \n",
      "mean       68583.108984             5.977222                   6.987792   \n",
      "std        10657.991214             0.991456                   1.005833   \n",
      "min        17796.631190             2.644304                   3.236194   \n",
      "25%        61480.562388             5.322283                   6.299250   \n",
      "50%        68804.286404             5.970429                   7.002902   \n",
      "75%        75783.338666             6.650808                   7.665871   \n",
      "max       107701.748378             9.519088                  10.759588   \n",
      "\n",
      "       Avg. Area Number of Bedrooms  Area Population         Price  \n",
      "count                   5000.000000      5000.000000  5.000000e+03  \n",
      "mean                       3.981330     36163.516039  1.232073e+06  \n",
      "std                        1.234137      9925.650114  3.531176e+05  \n",
      "min                        2.000000       172.610686  1.593866e+04  \n",
      "25%                        3.140000     29403.928702  9.975771e+05  \n",
      "50%                        4.050000     36199.406689  1.232669e+06  \n",
      "75%                        4.490000     42861.290769  1.471210e+06  \n",
      "max                        6.500000     69621.713378  2.469066e+06  \n",
      "(5000, 7)\n"
     ]
    }
   ],
   "source": [
    "#  1) Lire le fichier Houses.csv et afficher ses données\n",
    "data = pd.read_csv(\"./Houses.csv\")\n",
    "\n",
    "print(data.describe())\n",
    "print(data.shape)\n",
    "# Verification des données et dimensions du dataset"
   ]
  },
  {
   "cell_type": "code",
   "execution_count": 194,
   "id": "3e3c5ca6",
   "metadata": {},
   "outputs": [],
   "source": [
    "# 2) Créer et former un modèle de régression linéaire entre les variables indépendante('Avg. Area Income', 'Avg. Area House Age', 'Avg. Area Number of Rooms','Avg. Area Number of Bedrooms', 'Area Population') et la variable dépendante (à prédire) Price\n"
   ]
  },
  {
   "cell_type": "code",
   "execution_count": 10,
   "id": "82f7cbaa",
   "metadata": {},
   "outputs": [
    {
     "name": "stdout",
     "output_type": "stream",
     "text": [
      "   Avg. Area Income  Avg. Area House Age  Avg. Area Number of Rooms  \\\n",
      "0      79545.458574             5.682861                   7.009188   \n",
      "1      79248.642455             6.002900                   6.730821   \n",
      "2      61287.067179             5.865890                   8.512727   \n",
      "3      63345.240046             7.188236                   5.586729   \n",
      "4      59982.197226             5.040555                   7.839388   \n",
      "\n",
      "   Avg. Area Number of Bedrooms  Area Population  \n",
      "0                          4.09     23086.800503  \n",
      "1                          3.09     40173.072174  \n",
      "2                          5.13     36882.159400  \n",
      "3                          3.26     34310.242831  \n",
      "4                          4.23     26354.109472  \n",
      "\n",
      " ###############\n",
      "\n",
      "0    1.059034e+06\n",
      "1    1.505891e+06\n",
      "2    1.058988e+06\n",
      "3    1.260617e+06\n",
      "4    6.309435e+05\n",
      "Name: Price, dtype: float64\n"
     ]
    }
   ],
   "source": [
    "X = data[['Avg. Area Income', 'Avg. Area House Age', 'Avg. Area Number of Rooms',\n",
    "          'Avg. Area Number of Bedrooms', 'Area Population']]\n",
    "y = data['Price']\n",
    "print(X.head(),y.head(),sep='\\n\\n ###############\\n\\n')"
   ]
  },
  {
   "cell_type": "code",
   "execution_count": 209,
   "id": "445d6155",
   "metadata": {},
   "outputs": [],
   "source": [
    "# 3) Procéder à une normalisation des données en utilisant le module preprocessing\n"
   ]
  },
  {
   "cell_type": "code",
   "execution_count": 12,
   "id": "16f8a77c",
   "metadata": {},
   "outputs": [],
   "source": [
    "from sklearn.preprocessing import MinMaxScaler\n",
    "# Il faut ajouter cet importation pour puvoir utiliser (instancier) la class MinMaxScaler\n",
    "scaler = MinMaxScaler()\n",
    "X_scaled = scaler.fit_transform(X)"
   ]
  },
  {
   "cell_type": "code",
   "execution_count": 210,
   "id": "3141e0b0",
   "metadata": {},
   "outputs": [],
   "source": [
    "# 4) appel de fonction normalization\n"
   ]
  },
  {
   "cell_type": "code",
   "execution_count": 13,
   "id": "2086e91e",
   "metadata": {},
   "outputs": [],
   "source": [
    "X_normalized = pd.DataFrame(X_scaled, columns=X.columns)"
   ]
  },
  {
   "cell_type": "code",
   "execution_count": 211,
   "id": "d6b551c1",
   "metadata": {},
   "outputs": [],
   "source": [
    "# 5) Diviser les données en données d’entraînement et données de test (les données de test représentent 20 % de l’ensemble des données).\n",
    "\n"
   ]
  },
  {
   "cell_type": "code",
   "execution_count": 14,
   "id": "3eca3e72",
   "metadata": {},
   "outputs": [],
   "source": [
    "x_train, x_test, y_train, y_test = train_test_split(X_normalized, y, test_size=0.2, random_state=42)"
   ]
  },
  {
   "cell_type": "code",
   "execution_count": 15,
   "id": "640355a5",
   "metadata": {},
   "outputs": [
    {
     "data": {
      "text/html": [
       "<div>\n",
       "<style scoped>\n",
       "    .dataframe tbody tr th:only-of-type {\n",
       "        vertical-align: middle;\n",
       "    }\n",
       "\n",
       "    .dataframe tbody tr th {\n",
       "        vertical-align: top;\n",
       "    }\n",
       "\n",
       "    .dataframe thead th {\n",
       "        text-align: right;\n",
       "    }\n",
       "</style>\n",
       "<table border=\"1\" class=\"dataframe\">\n",
       "  <thead>\n",
       "    <tr style=\"text-align: right;\">\n",
       "      <th></th>\n",
       "      <th>Avg. Area Income</th>\n",
       "      <th>Avg. Area House Age</th>\n",
       "      <th>Avg. Area Number of Rooms</th>\n",
       "      <th>Avg. Area Number of Bedrooms</th>\n",
       "      <th>Area Population</th>\n",
       "    </tr>\n",
       "  </thead>\n",
       "  <tbody>\n",
       "    <tr>\n",
       "      <th>count</th>\n",
       "      <td>4000.000000</td>\n",
       "      <td>4000.000000</td>\n",
       "      <td>4000.000000</td>\n",
       "      <td>4000.000000</td>\n",
       "      <td>4000.000000</td>\n",
       "    </tr>\n",
       "    <tr>\n",
       "      <th>mean</th>\n",
       "      <td>0.564920</td>\n",
       "      <td>0.484251</td>\n",
       "      <td>0.497637</td>\n",
       "      <td>0.440529</td>\n",
       "      <td>0.517344</td>\n",
       "    </tr>\n",
       "    <tr>\n",
       "      <th>std</th>\n",
       "      <td>0.119062</td>\n",
       "      <td>0.144518</td>\n",
       "      <td>0.134159</td>\n",
       "      <td>0.272528</td>\n",
       "      <td>0.143568</td>\n",
       "    </tr>\n",
       "    <tr>\n",
       "      <th>min</th>\n",
       "      <td>0.000000</td>\n",
       "      <td>0.005635</td>\n",
       "      <td>0.000000</td>\n",
       "      <td>0.000000</td>\n",
       "      <td>0.000000</td>\n",
       "    </tr>\n",
       "    <tr>\n",
       "      <th>25%</th>\n",
       "      <td>0.485638</td>\n",
       "      <td>0.389438</td>\n",
       "      <td>0.405559</td>\n",
       "      <td>0.253333</td>\n",
       "      <td>0.420204</td>\n",
       "    </tr>\n",
       "    <tr>\n",
       "      <th>50%</th>\n",
       "      <td>0.568708</td>\n",
       "      <td>0.482865</td>\n",
       "      <td>0.500559</td>\n",
       "      <td>0.455556</td>\n",
       "      <td>0.519306</td>\n",
       "    </tr>\n",
       "    <tr>\n",
       "      <th>75%</th>\n",
       "      <td>0.645665</td>\n",
       "      <td>0.582179</td>\n",
       "      <td>0.588438</td>\n",
       "      <td>0.553333</td>\n",
       "      <td>0.613436</td>\n",
       "    </tr>\n",
       "    <tr>\n",
       "      <th>max</th>\n",
       "      <td>0.966642</td>\n",
       "      <td>1.000000</td>\n",
       "      <td>0.936257</td>\n",
       "      <td>1.000000</td>\n",
       "      <td>1.000000</td>\n",
       "    </tr>\n",
       "  </tbody>\n",
       "</table>\n",
       "</div>"
      ],
      "text/plain": [
       "       Avg. Area Income  Avg. Area House Age  Avg. Area Number of Rooms  \\\n",
       "count       4000.000000          4000.000000                4000.000000   \n",
       "mean           0.564920             0.484251                   0.497637   \n",
       "std            0.119062             0.144518                   0.134159   \n",
       "min            0.000000             0.005635                   0.000000   \n",
       "25%            0.485638             0.389438                   0.405559   \n",
       "50%            0.568708             0.482865                   0.500559   \n",
       "75%            0.645665             0.582179                   0.588438   \n",
       "max            0.966642             1.000000                   0.936257   \n",
       "\n",
       "       Avg. Area Number of Bedrooms  Area Population  \n",
       "count                   4000.000000      4000.000000  \n",
       "mean                       0.440529         0.517344  \n",
       "std                        0.272528         0.143568  \n",
       "min                        0.000000         0.000000  \n",
       "25%                        0.253333         0.420204  \n",
       "50%                        0.455556         0.519306  \n",
       "75%                        0.553333         0.613436  \n",
       "max                        1.000000         1.000000  "
      ]
     },
     "execution_count": 15,
     "metadata": {},
     "output_type": "execute_result"
    }
   ],
   "source": [
    "x_train.describe()"
   ]
  },
  {
   "cell_type": "code",
   "execution_count": 16,
   "id": "4972f2fd",
   "metadata": {},
   "outputs": [
    {
     "data": {
      "text/plain": [
       "count    4.000000e+03\n",
       "mean     1.229577e+06\n",
       "std      3.536607e+05\n",
       "min      1.593866e+04\n",
       "25%      9.942201e+05\n",
       "50%      1.226441e+06\n",
       "75%      1.471210e+06\n",
       "max      2.370231e+06\n",
       "Name: Price, dtype: float64"
      ]
     },
     "execution_count": 16,
     "metadata": {},
     "output_type": "execute_result"
    }
   ],
   "source": [
    "y_train.describe()"
   ]
  },
  {
   "cell_type": "code",
   "execution_count": 212,
   "id": "0fb200ac",
   "metadata": {},
   "outputs": [],
   "source": [
    "# 6) Instancier un algorithme de régression linéaire\n"
   ]
  },
  {
   "cell_type": "code",
   "execution_count": 17,
   "id": "1fccee14",
   "metadata": {},
   "outputs": [],
   "source": [
    "Mon_model = LinearRegression()"
   ]
  },
  {
   "cell_type": "code",
   "execution_count": 18,
   "id": "032feb41",
   "metadata": {},
   "outputs": [
    {
     "data": {
      "text/html": [
       "<style>#sk-container-id-1 {color: black;}#sk-container-id-1 pre{padding: 0;}#sk-container-id-1 div.sk-toggleable {background-color: white;}#sk-container-id-1 label.sk-toggleable__label {cursor: pointer;display: block;width: 100%;margin-bottom: 0;padding: 0.3em;box-sizing: border-box;text-align: center;}#sk-container-id-1 label.sk-toggleable__label-arrow:before {content: \"▸\";float: left;margin-right: 0.25em;color: #696969;}#sk-container-id-1 label.sk-toggleable__label-arrow:hover:before {color: black;}#sk-container-id-1 div.sk-estimator:hover label.sk-toggleable__label-arrow:before {color: black;}#sk-container-id-1 div.sk-toggleable__content {max-height: 0;max-width: 0;overflow: hidden;text-align: left;background-color: #f0f8ff;}#sk-container-id-1 div.sk-toggleable__content pre {margin: 0.2em;color: black;border-radius: 0.25em;background-color: #f0f8ff;}#sk-container-id-1 input.sk-toggleable__control:checked~div.sk-toggleable__content {max-height: 200px;max-width: 100%;overflow: auto;}#sk-container-id-1 input.sk-toggleable__control:checked~label.sk-toggleable__label-arrow:before {content: \"▾\";}#sk-container-id-1 div.sk-estimator input.sk-toggleable__control:checked~label.sk-toggleable__label {background-color: #d4ebff;}#sk-container-id-1 div.sk-label input.sk-toggleable__control:checked~label.sk-toggleable__label {background-color: #d4ebff;}#sk-container-id-1 input.sk-hidden--visually {border: 0;clip: rect(1px 1px 1px 1px);clip: rect(1px, 1px, 1px, 1px);height: 1px;margin: -1px;overflow: hidden;padding: 0;position: absolute;width: 1px;}#sk-container-id-1 div.sk-estimator {font-family: monospace;background-color: #f0f8ff;border: 1px dotted black;border-radius: 0.25em;box-sizing: border-box;margin-bottom: 0.5em;}#sk-container-id-1 div.sk-estimator:hover {background-color: #d4ebff;}#sk-container-id-1 div.sk-parallel-item::after {content: \"\";width: 100%;border-bottom: 1px solid gray;flex-grow: 1;}#sk-container-id-1 div.sk-label:hover label.sk-toggleable__label {background-color: #d4ebff;}#sk-container-id-1 div.sk-serial::before {content: \"\";position: absolute;border-left: 1px solid gray;box-sizing: border-box;top: 0;bottom: 0;left: 50%;z-index: 0;}#sk-container-id-1 div.sk-serial {display: flex;flex-direction: column;align-items: center;background-color: white;padding-right: 0.2em;padding-left: 0.2em;position: relative;}#sk-container-id-1 div.sk-item {position: relative;z-index: 1;}#sk-container-id-1 div.sk-parallel {display: flex;align-items: stretch;justify-content: center;background-color: white;position: relative;}#sk-container-id-1 div.sk-item::before, #sk-container-id-1 div.sk-parallel-item::before {content: \"\";position: absolute;border-left: 1px solid gray;box-sizing: border-box;top: 0;bottom: 0;left: 50%;z-index: -1;}#sk-container-id-1 div.sk-parallel-item {display: flex;flex-direction: column;z-index: 1;position: relative;background-color: white;}#sk-container-id-1 div.sk-parallel-item:first-child::after {align-self: flex-end;width: 50%;}#sk-container-id-1 div.sk-parallel-item:last-child::after {align-self: flex-start;width: 50%;}#sk-container-id-1 div.sk-parallel-item:only-child::after {width: 0;}#sk-container-id-1 div.sk-dashed-wrapped {border: 1px dashed gray;margin: 0 0.4em 0.5em 0.4em;box-sizing: border-box;padding-bottom: 0.4em;background-color: white;}#sk-container-id-1 div.sk-label label {font-family: monospace;font-weight: bold;display: inline-block;line-height: 1.2em;}#sk-container-id-1 div.sk-label-container {text-align: center;}#sk-container-id-1 div.sk-container {/* jupyter's `normalize.less` sets `[hidden] { display: none; }` but bootstrap.min.css set `[hidden] { display: none !important; }` so we also need the `!important` here to be able to override the default hidden behavior on the sphinx rendered scikit-learn.org. See: https://github.com/scikit-learn/scikit-learn/issues/21755 */display: inline-block !important;position: relative;}#sk-container-id-1 div.sk-text-repr-fallback {display: none;}</style><div id=\"sk-container-id-1\" class=\"sk-top-container\"><div class=\"sk-text-repr-fallback\"><pre>LinearRegression()</pre><b>In a Jupyter environment, please rerun this cell to show the HTML representation or trust the notebook. <br />On GitHub, the HTML representation is unable to render, please try loading this page with nbviewer.org.</b></div><div class=\"sk-container\" hidden><div class=\"sk-item\"><div class=\"sk-estimator sk-toggleable\"><input class=\"sk-toggleable__control sk-hidden--visually\" id=\"sk-estimator-id-1\" type=\"checkbox\" checked><label for=\"sk-estimator-id-1\" class=\"sk-toggleable__label sk-toggleable__label-arrow\">LinearRegression</label><div class=\"sk-toggleable__content\"><pre>LinearRegression()</pre></div></div></div></div></div>"
      ],
      "text/plain": [
       "LinearRegression()"
      ]
     },
     "execution_count": 18,
     "metadata": {},
     "output_type": "execute_result"
    }
   ],
   "source": [
    "# 7) Entraîner le modèle\n",
    "Mon_model.fit(x_train, y_train)"
   ]
  },
  {
   "cell_type": "code",
   "execution_count": 216,
   "id": "eb8b061a",
   "metadata": {},
   "outputs": [],
   "source": [
    "# 8) appliquer le modèle sur les données de test\n",
    "\n"
   ]
  },
  {
   "cell_type": "code",
   "execution_count": 20,
   "id": "e2486650",
   "metadata": {},
   "outputs": [],
   "source": [
    "y_pred = Mon_model.predict(x_test)"
   ]
  },
  {
   "cell_type": "code",
   "execution_count": 219,
   "id": "94b6b8e7",
   "metadata": {},
   "outputs": [],
   "source": [
    "# 9) calculer les deux métriques mean_squared_error et r2_score et les afficher\n"
   ]
  },
  {
   "cell_type": "code",
   "execution_count": 21,
   "id": "7d01c5a2",
   "metadata": {},
   "outputs": [
    {
     "name": "stdout",
     "output_type": "stream",
     "text": [
      "Mean Squared Error: 10089009300.893988\n",
      "R2 Score: 0.9179971706834331\n"
     ]
    }
   ],
   "source": [
    "\n",
    "# MSE = (1/n) * sum((y_pred - y_true) ^ 2)\n",
    "MSE = mean_squared_error(y_test, y_pred)\n",
    "# R 2 = 1 – ∑ i = 1 n ( y i – y ^ i ) 2 ∑ i = 1 n ( y i – y ¯ ) 2\n",
    "R2 = r2_score(y_test, y_pred)\n",
    "\n",
    "print(\"Mean Squared Error:\", MSE)\n",
    "print(\"R2 Score:\", R2)"
   ]
  },
  {
   "cell_type": "code",
   "execution_count": 22,
   "id": "492a36e3",
   "metadata": {},
   "outputs": [
    {
     "data": {
      "text/plain": [
       "[<matplotlib.lines.Line2D at 0x1b0b5ec1310>]"
      ]
     },
     "execution_count": 22,
     "metadata": {},
     "output_type": "execute_result"
    },
    {
     "data": {
      "image/png": "[encoded data removed]",
      "text/plain": [
       "<Figure size 640x480 with 1 Axes>"
      ]
     },
     "metadata": {},
     "output_type": "display_data"
    }
   ],
   "source": [
    "# 10) réaliser une courbe affichant les prédictions du modèle et les vrai valeurs de la variable à prédire des données de test (une seule ligne du code) \n",
    "####Titre du graph ####\n",
    "\n",
    "plt.title(\"les prédictions du modèle vs la réalité\")\n",
    "#### Label des valeurs observées ####\n",
    "\n",
    "plt.xlabel(\"les valeurs observées\")\n",
    "#### Label des valeurs observées   ####\n",
    "\n",
    "\n",
    "plt.ylabel(\"les prédictions\")\n",
    "#### les dimentions du graph ####\n",
    "\n",
    "\n",
    "plt.plot([40.0,160.0],[40.0,160.0],'red',lw=1)\n",
    "\n",
    "\n",
    "# plt.show()"
   ]
  },
  {
   "cell_type": "code",
   "execution_count": 23,
   "id": "11192ec3",
   "metadata": {},
   "outputs": [
    {
     "data": {
      "image/png": "[encoded data removed]",
      "text/plain": [
       "<Figure size 640x480 with 1 Axes>"
      ]
     },
     "metadata": {},
     "output_type": "display_data"
    }
   ],
   "source": [
    "plt.scatter(y_test, y_pred)\n",
    "plt.xlabel(\"True Values\")\n",
    "plt.ylabel(\"Predictions\")\n",
    "plt.show()"
   ]
  },
  {
   "cell_type": "markdown",
   "id": "97d90075",
   "metadata": {},
   "source": [
    "<!-- -->On Voit clairement que le nuage des point entoure la courbe donc ,on addition au metriques calculées on peut affirmer que le model est bien entainné -->"
   ]
  }
 ],
 "metadata": {
  "kernelspec": {
   "display_name": "Python 3 (ipykernel)",
   "language": "python",
   "name": "python3"
  },
  "language_info": {
   "codemirror_mode": {
    "name": "ipython",
    "version": 3
   },
   "file_extension": ".py",
   "mimetype": "text/x-python",
   "name": "python",
   "nbconvert_exporter": "python",
   "pygments_lexer": "ipython3",
   "version": "3.11.5"
  }
 },
 "nbformat": 4,
 "nbformat_minor": 5
}
